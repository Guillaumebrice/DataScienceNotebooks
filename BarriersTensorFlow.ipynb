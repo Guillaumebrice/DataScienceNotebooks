{
 "cells": [
  {
   "cell_type": "markdown",
   "metadata": {},
   "source": [
    "# Pricing Exotic Options with TensorFlow\n",
    "\n",
    "When i was writing my post about gradient descent and automatic differentiation in TensorFLow I had the idea to use TensorFlow for Monte-Carlo pricing of some path dependent derivates.\n",
    "\n",
    "TensorFlow supports GPU computing (unfortunatly I can not try this on my laptop) which can speed and with TensorFlows automatic differentiation we can get analytical 'path' derivates. Calculating path derivates with a bump and revaluation is usally very computational costly and can be numerical unstable, depending on the bump size.\n",
    "\n",
    "In this post we want to focus on the implementation in TensorFlow therefore we will use a Black-Scholes model simplicity and try to price a Plain-Vanilla, a Down-And-Out Barrier and a Bermudan Call Option.\n",
    "\n",
    "Lets start with the plain vanilla one."
   ]
  },
  {
   "cell_type": "code",
   "execution_count": 1,
   "metadata": {},
   "outputs": [
    {
     "name": "stderr",
     "output_type": "stream",
     "text": [
      "/anaconda/lib/python3.6/site-packages/h5py/__init__.py:34: FutureWarning: Conversion of the second argument of issubdtype from `float` to `np.floating` is deprecated. In future, it will be treated as `np.float64 == np.dtype(float).type`.\n",
      "  from ._conv import register_converters as _register_converters\n"
     ]
    }
   ],
   "source": [
    "import numpy as np\n",
    "import tensorflow as tf\n",
    "import scipy.stats as stats\n",
    "from sklearn.linear_model import LinearRegression\n",
    "from sklearn.metrics import mean_squared_error\n",
    "import matplotlib.pyplot as plt"
   ]
  },
  {
   "cell_type": "code",
   "execution_count": 117,
   "metadata": {},
   "outputs": [],
   "source": [
    "## Plain Vanilla Call in TensorFlow\n",
    "\n",
    "def blackScholes_py(S_0, strike, time_to_expiry, implied_vol, riskfree_rate):\n",
    "    S = S_0\n",
    "    K = strike\n",
    "    dt = time_to_expiry\n",
    "    sigma = implied_vol\n",
    "    r = riskfree_rate\n",
    "    Phi = stats.norm.cdf\n",
    "    d_1 = (np.log(S_0 / K) + (r+sigma**2/2)*dt) / (sigma*np.sqrt(dt))\n",
    "    d_2 = d_1 - sigma*np.sqrt(dt)\n",
    "    return S*Phi(d_1) - K*np.exp(-r*dt)*Phi(d_2)\n",
    "\n",
    "\n",
    "def blackScholes_tf_pricer():\n",
    "    # Build the static computational graph\n",
    "    S = tf.placeholder(tf.float32)\n",
    "    K = tf.placeholder(tf.float32)\n",
    "    dt = tf.placeholder(tf.float32)\n",
    "    sigma = tf.placeholder(tf.float32)\n",
    "    r = tf.placeholder(tf.float32)\n",
    "    Phi = tf.distributions.Normal(0.,1.).cdf\n",
    "    d_1 = (tf.log(S / K) + (r+sigma**2/2)*dt) / (sigma*tf.sqrt(dt))\n",
    "    d_2 = d_1 - sigma*tf.sqrt(dt)\n",
    "    npv =  S*Phi(d_1) - K*tf.exp(-r*dt)*Phi(d_2)\n",
    "    greeks = tf.gradients(npv, [S, sigma, r, K, dt])\n",
    "    # Calculate mixed 2nd order greeks for S (esp. gamma, vanna) and sigma (esp. volga)\n",
    "    dS_2ndOrder = tf.gradients(greeks[0], [S, sigma, r, K, dt]) \n",
    "    dsigma_2ndOrder = tf.gradients(greeks[1], [S, sigma, r, K, dt]) \n",
    "    # Function to feed in the input and calculate the computational graph\n",
    "    def execute_graph(S_0, strike, time_to_expiry, implied_vol, riskfree_rate):\n",
    "        with tf.Session() as sess:\n",
    "            res = sess.run([npv, greeks, dS_2ndOrder, dsigma_2ndOrder], \n",
    "                           {\n",
    "                               S: S_0,\n",
    "                               K : strike,\n",
    "                               r : riskfree_rate,\n",
    "                               sigma: implied_vol,\n",
    "                               dt: time_to_expiry})\n",
    "        return res\n",
    "    return execute_graph\n",
    "        \n",
    "    "
   ]
  },
  {
   "cell_type": "code",
   "execution_count": 118,
   "metadata": {},
   "outputs": [],
   "source": [
    "tf_pricer = blackScholes_tf_pricer()"
   ]
  },
  {
   "cell_type": "code",
   "execution_count": 139,
   "metadata": {},
   "outputs": [
    {
     "data": {
      "text/plain": [
       "6.934486895210796"
      ]
     },
     "execution_count": 139,
     "metadata": {},
     "output_type": "execute_result"
    }
   ],
   "source": [
    "blackScholes_py(100., 110., 2., 0.2, 0.03) - (100/90)**(1-0.03/0.2**2)*blackScholes_py(90**2/100., 110., 2., 0.2, 0.03)"
   ]
  },
  {
   "cell_type": "code",
   "execution_count": 120,
   "metadata": {},
   "outputs": [
    {
     "name": "stdout",
     "output_type": "stream",
     "text": [
      "2.15 s ± 21.5 ms per loop (mean ± std. dev. of 7 runs, 1 loop each)\n"
     ]
    }
   ],
   "source": [
    "%%timeit\n",
    "npv = tf_pricer(100., 110., 2., 0.2, 0.03)\n",
    "npv"
   ]
  },
  {
   "cell_type": "markdown",
   "metadata": {},
   "source": [
    "### Monte Carlo with TensorFlow\n",
    "\n",
    "Lets try a path dependent exotic option, a down and out call. A down-and-out Call behaves as a normal Call but if the price of the underlying touch or fall below a certain level (the barrier B) at any time until the expiry the option, then it becomes worthless, even if its at expiry in the money.\n",
    "\n",
    "A down and out call is cheaper than the plain vanilla case, since there is a risk that the option get knocked out before reaching the expiry. It can be used to reduce the hedging costs.\n",
    "\n",
    "In the Black-Scholes model there is again a closed formula to calculate the price. See ... .\n",
    "\n",
    "We want to price this kind of option in TensorFlow with a Monte-Carlo Simulation and let TensorFLow calculate the path derivates with automatic differentitation.\n",
    "\n",
    "First implement the analytical solutions in 'pure' Python (actually we rely heavly on numpy) and TensorFLow."
   ]
  },
  {
   "cell_type": "code",
   "execution_count": 167,
   "metadata": {},
   "outputs": [],
   "source": [
    "def analytical_downOut_py(S_0, strike, time_to_expiry, implied_vol, riskfree_rate, barrier):\n",
    "    S = S_0\n",
    "    K = strike\n",
    "    dt = time_to_expiry\n",
    "    sigma = implied_vol\n",
    "    r = riskfree_rate\n",
    "    alpha = 0.5 - r/sigma**2\n",
    "    B = barrier\n",
    "    Phi = stats.norm.cdf\n",
    "    d_1 = (np.log(S_0 / K) + (r+sigma**2/2)*dt) / (sigma*np.sqrt(dt))\n",
    "    d_2 = d_1 - sigma*np.sqrt(dt)\n",
    "    bs = S*Phi(d_1) - K*np.exp(-r*dt)*Phi(d_2)\n",
    "    d_1a = (np.log(B**2 / (S*K)) + (r+sigma**2/2)*dt) / (sigma*np.sqrt(dt))\n",
    "    d_2a = d_1a - sigma*np.sqrt(dt)\n",
    "    reflection = (S/B)**(1-r/sigma**2) * ((B**2/S)*Phi(d_1a) - K*np.exp(-r*dt)*Phi(d_2a))\n",
    "    return bs - reflection\n",
    "\n",
    "\n",
    "def analytical_downOut_tf_pricer(enable_greeks = True):\n",
    "    S = tf.placeholder(tf.float32)\n",
    "    K = tf.placeholder(tf.float32)\n",
    "    dt = tf.placeholder(tf.float32)\n",
    "    sigma = tf.placeholder(tf.float32)\n",
    "    r = tf.placeholder(tf.float32)\n",
    "    B = tf.placeholder(tf.float32)\n",
    "    Phi = tf.distributions.Normal(0.,1.).cdf\n",
    "    d_1 = (tf.log(S / K) + (r+sigma**2/2)*dt) / (sigma*tf.sqrt(dt))\n",
    "    d_2 = d_1 - sigma*tf.sqrt(dt)\n",
    "    bs_npv =  S*Phi(d_1) - K*tf.exp(-r*dt)*Phi(d_2)\n",
    "    d_1a = (tf.log(B**2 / (S*K)) + (r+sigma**2/2)*dt) / (sigma*tf.sqrt(dt))\n",
    "    d_2a = d_1a - sigma*tf.sqrt(dt)\n",
    "    reflection = (S/B)**(1-r/sigma**2) * ((B**2/S)*Phi(d_1a) - K*tf.exp(-r*dt)*Phi(d_2a))\n",
    "    npv = bs_npv - reflection\n",
    "    target_calc = [npv]\n",
    "    if enable_greeks:\n",
    "        greeks = tf.gradients(npv, [S, sigma, r, K, dt, B])\n",
    "        # Calculate mixed 2nd order greeks for S (esp. gamma, vanna) and sigma (esp. volga)\n",
    "        dS_2ndOrder = tf.gradients(greeks[0], [S, sigma, r, K, dt, B]) \n",
    "        dsigma_2ndOrder = tf.gradients(greeks[1], [S, sigma, r, K, dt, B]) \n",
    "        # Function to feed in the input and calculate the computational graph\n",
    "        target_calc += [greeks, dS_2ndOrder, dsigma_2ndOrder]\n",
    "    def price(S_0, strike, time_to_expiry, implied_vol, riskfree_rate, barrier):\n",
    "        with tf.Session() as sess:\n",
    "            \n",
    "            res = sess.run(target_calc, \n",
    "                           {\n",
    "                               S: S_0,\n",
    "                               K : strike,\n",
    "                               r : riskfree_rate,\n",
    "                               sigma: implied_vol,\n",
    "                               dt: time_to_expiry,\n",
    "                               B : barrier})\n",
    "        return res\n",
    "    return price"
   ]
  },
  {
   "cell_type": "code",
   "execution_count": 501,
   "metadata": {},
   "outputs": [
    {
     "data": {
      "text/plain": [
       "6.934486895210796"
      ]
     },
     "execution_count": 501,
     "metadata": {},
     "output_type": "execute_result"
    }
   ],
   "source": [
    "analytical_downOut_py(100., 110., 2., 0.2, 0.03, 90)"
   ]
  },
  {
   "cell_type": "code",
   "execution_count": 502,
   "metadata": {},
   "outputs": [],
   "source": [
    "down_out_pricer = analytical_downOut_tf_pricer(True)"
   ]
  },
  {
   "cell_type": "code",
   "execution_count": 503,
   "metadata": {},
   "outputs": [
    {
     "data": {
      "text/plain": [
       "[6.9344816,\n",
       " [0.69351405, 18.208786, 56.060673, -0.22123335, 1.7513491, -0.423125],\n",
       " [0.002250306, 1.6649915, 4.7459536, -0.020622324, 0.15443888, 0.02270472],\n",
       " [1.6649914, -159.15932, -191.44804, 0.9917286, -6.277489, -2.859783]]"
      ]
     },
     "execution_count": 503,
     "metadata": {},
     "output_type": "execute_result"
    }
   ],
   "source": [
    "down_out_pricer(100., 110., 2., 0.2, 0.03, 90.)"
   ]
  },
  {
   "cell_type": "code",
   "execution_count": 321,
   "metadata": {},
   "outputs": [
    {
     "name": "stdout",
     "output_type": "stream",
     "text": [
      "2.23 s ± 95.9 ms per loop (mean ± std. dev. of 7 runs, 1 loop each)\n"
     ]
    }
   ],
   "source": [
    "down_out_pricer = analytical_downOut_tf_pricer(False)\n",
    "%timeit down_out_pricer(100., 110., 2., 0.2, 0.03, 95.)"
   ]
  },
  {
   "cell_type": "code",
   "execution_count": 173,
   "metadata": {},
   "outputs": [
    {
     "name": "stdout",
     "output_type": "stream",
     "text": [
      "3.85 s ± 54.6 ms per loop (mean ± std. dev. of 7 runs, 1 loop each)\n"
     ]
    }
   ],
   "source": [
    "down_out_pricer = analytical_downOut_tf_pricer(True)\n",
    "%timeit down_out_pricer(100., 110., 2., 0.2, 0.03, 90.)"
   ]
  },
  {
   "cell_type": "code",
   "execution_count": 174,
   "metadata": {},
   "outputs": [
    {
     "name": "stdout",
     "output_type": "stream",
     "text": [
      "265 µs ± 11.2 µs per loop (mean ± std. dev. of 7 runs, 1000 loops each)\n"
     ]
    }
   ],
   "source": [
    "%timeit analytical_downOut_py(100., 110., 2., 0.2, 0.03, 95.)"
   ]
  },
  {
   "cell_type": "markdown",
   "metadata": {},
   "source": [
    "Now lets implement the Monte Carlo Pricing. We will pass the random varibales to the pricing function. \n",
    "The pricing function we assume equvidistant timegrid."
   ]
  },
  {
   "cell_type": "code",
   "execution_count": 178,
   "metadata": {},
   "outputs": [],
   "source": [
    "def generate_random_variables_for_down_out(steps, samples, seed=42):\n",
    "    np.random.seed(seed)\n",
    "    return np.random.randn(samples, steps)"
   ]
  },
  {
   "cell_type": "code",
   "execution_count": 398,
   "metadata": {},
   "outputs": [
    {
     "data": {
      "text/plain": [
       "(10000, 100)"
      ]
     },
     "execution_count": 398,
     "metadata": {},
     "output_type": "execute_result"
    }
   ],
   "source": [
    "N = generate_random_variables_for_down_out(100, 10000)\n",
    "N.shape"
   ]
  },
  {
   "cell_type": "code",
   "execution_count": 399,
   "metadata": {},
   "outputs": [],
   "source": [
    "def monte_carlo_down_out_py(S_0, strike, time_to_expiry, implied_vol, riskfree_rate, barrier, stdnorm_random_variates):\n",
    "    S = S_0\n",
    "    K = strike\n",
    "    dt = time_to_expiry / stdnorm_random_variates.shape[1]\n",
    "    sigma = implied_vol\n",
    "    r = riskfree_rate\n",
    "    B = barrier\n",
    "    # See Advanced Monte Carlo methods for barrier and related exotic options by Emmanuel Gobet\n",
    "    B_shift = B*np.exp(0.5826*sigma*np.sqrt(dt))\n",
    "    S_T = S * np.cumprod(np.exp((r-sigma**2/2)*dt+sigma*np.sqrt(dt)*stdnorm_random_variates), axis=1)\n",
    "    non_touch = (np.min(S_T, axis=1) > B_shift)*1\n",
    "    call_payout = np.maximum(S_T[:,-1] - K, 0)\n",
    "    npv = np.mean(non_touch * call_payout)\n",
    "    return np.exp(-time_to_expiry*r)*npv"
   ]
  },
  {
   "cell_type": "code",
   "execution_count": 526,
   "metadata": {},
   "outputs": [
    {
     "name": "stdout",
     "output_type": "stream",
     "text": [
      "11.5 ms ± 1.55 ms per loop (mean ± std. dev. of 7 runs, 100 loops each)\n"
     ]
    }
   ],
   "source": [
    "%%timeit\n",
    "monte_carlo_down_out_py(100., 110., 2., 0.2, 0.03, 90., N)"
   ]
  },
  {
   "cell_type": "code",
   "execution_count": 521,
   "metadata": {},
   "outputs": [],
   "source": [
    "def monte_carlo_down_out_tf(enable_greeks = True):\n",
    "    S = tf.placeholder(tf.float32)\n",
    "    K = tf.placeholder(tf.float32)\n",
    "    dt = tf.placeholder(tf.float32)\n",
    "    T = tf.placeholder(tf.float32)\n",
    "    sigma = tf.placeholder(tf.float32)\n",
    "    r = tf.placeholder(tf.float32)\n",
    "    B = tf.placeholder(tf.float32)\n",
    "    dw = tf.placeholder(tf.float32)\n",
    "    # See Advanced Monte Carlo methods for barrier and related exotic options by Emmanuel Gobet\n",
    "    B_shift = B * tf.exp(0.5826*sigma*tf.sqrt(dt))\n",
    "    S_T = S * tf.cumprod(tf.exp((r-sigma**2/2)*dt+sigma*tf.sqrt(dt)*dw), axis=1)\n",
    "    non_touch = tf.cast(tf.reduce_all(S_T > B_shift, axis=1), tf.float32)\n",
    "    call_payout = tf.maximum(S_T[:,-1] - K, 0)\n",
    "    npv = tf.exp(-r*T) * tf.reduce_mean(non_touch * call_payout)\n",
    "    target_calc = [npv]\n",
    "    if enable_greeks:\n",
    "        greeks = tf.gradients(npv, [S, sigma, r, K, T])\n",
    "        target_calc += [greeks]\n",
    "    def pricer(S_0, strike, time_to_expiry, implied_vol, riskfree_rate, barrier, stdnorm_random_variates):\n",
    "        with tf.Session() as sess:\n",
    "            timedelta = time_to_expiry / stdnorm_random_variates.shape[1]\n",
    "            res = sess.run(target_calc, \n",
    "                           {\n",
    "                            S: S_0,\n",
    "                               K : strike,\n",
    "                               r : riskfree_rate,\n",
    "                               sigma: implied_vol,\n",
    "                               dt : timedelta,\n",
    "                               T: time_to_expiry,\n",
    "                               B : barrier,\n",
    "                               dw : stdnorm_random_variates\n",
    "                         })\n",
    "            return res\n",
    "    return pricer\n",
    "    "
   ]
  },
  {
   "cell_type": "code",
   "execution_count": 522,
   "metadata": {},
   "outputs": [],
   "source": [
    "tf_mc_pricer = monte_carlo_down_out_tf()"
   ]
  },
  {
   "cell_type": "code",
   "execution_count": 525,
   "metadata": {},
   "outputs": [
    {
     "data": {
      "text/plain": [
       "[7.035021, [0.31648976, 41.60718, 49.227932, -0.22376387, -0.21105061]]"
      ]
     },
     "execution_count": 525,
     "metadata": {},
     "output_type": "execute_result"
    }
   ],
   "source": [
    "tf_mc_pricer(100., 110., 2., 0.2, 0.03, 90., N)"
   ]
  },
  {
   "cell_type": "code",
   "execution_count": 527,
   "metadata": {},
   "outputs": [
    {
     "name": "stdout",
     "output_type": "stream",
     "text": [
      "3.08 s ± 275 ms per loop (mean ± std. dev. of 7 runs, 1 loop each)\n"
     ]
    }
   ],
   "source": [
    "%%timeit\n",
    "tf_mc_pricer(100., 110., 2., 0.2, 0.03, 90., N)"
   ]
  }
 ],
 "metadata": {
  "kernelspec": {
   "display_name": "Python 3",
   "language": "python",
   "name": "python3"
  },
  "language_info": {
   "codemirror_mode": {
    "name": "ipython",
    "version": 3
   },
   "file_extension": ".py",
   "mimetype": "text/x-python",
   "name": "python",
   "nbconvert_exporter": "python",
   "pygments_lexer": "ipython3",
   "version": "3.6.4"
  }
 },
 "nbformat": 4,
 "nbformat_minor": 2
}
