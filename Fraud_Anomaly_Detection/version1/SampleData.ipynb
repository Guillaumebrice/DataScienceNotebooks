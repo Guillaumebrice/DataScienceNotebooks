{
 "cells": [
  {
   "cell_type": "markdown",
   "metadata": {},
   "source": [
    "## Sample Data Generation\n",
    "\n",
    "This script generates artificial log files by simulating user activities \n",
    "\n",
    "The data is used to train and test different models (like an hidden markov model, recurrent neural networks and generative adversial networks to detect outliers / fraud in user transactional behavior. For example the employee usage of a CRM system to detect data theft or customer behavior in a online shop to sport fraudulent orders.\n",
    "\n",
    "Simulation is done via Markov Chain Monte Carlo Simulation.\n",
    "\n",
    "We define a set of possible activities like (start, end, action_1, ..., action_n) and a set of users. Each user belong to one of n classes (eg. normal behavior and fraudulent behavior). For each class we have a \n",
    "transition matrix giving the probabilities that a user perform a specific action given his previous action and his state.\n"
   ]
  },
  {
   "cell_type": "code",
   "execution_count": 2,
   "metadata": {},
   "outputs": [],
   "source": [
    "import os\n",
    "import numpy as np\n",
    "import pandas as pd"
   ]
  },
  {
   "cell_type": "code",
   "execution_count": 3,
   "metadata": {},
   "outputs": [],
   "source": [
    "# Configuration\n",
    "\n",
    "# first two actions need to be start and end\n",
    "actions = ['start', 'end', 'action_1', 'action_2', 'action_3']\n",
    "\n",
    "n_users = 100\n",
    "\n",
    "n_states = 2\n",
    "\n",
    "# Probability that a user is one of these states\n",
    "p_states = [0.98, 0.02]\n",
    "\n",
    "n_activities_per_user_per_day = 100\n",
    "\n",
    "n_days = 1\n",
    "\n",
    "transitions = [\n",
    "    # Normal behavior\n",
    "    np.array([\n",
    "        [0.00, 0.00, 1/3,  1/3,  1/3],\n",
    "        [1.00, 0.00, 0.00, 0.00, 0.00],\n",
    "        [0.00, 0.01, 0.09, 0.45, 0.45],\n",
    "        [0.00, 0.88, 0.01, 0.10, 0.01],\n",
    "        [0.00, 0.68, 0.01, 0.30, 0.01],\n",
    "    ]),\n",
    "    # Fraudulent Behavior\n",
    "    np.array([\n",
    "        [0.00, 0.00, 0.8,  0.1,  0.1],\n",
    "        [1.00, 0.00, 0.00, 0.00, 0.00],\n",
    "        [0.00, 0.2, 0.70, 0.05, 0.05],\n",
    "        [0.00, 0.88, 0.01, 0.10, 0.01],\n",
    "        [0.00, 0.68, 0.01, 0.30, 0.01],\n",
    "    ])\n",
    "]\n",
    "\n",
    "assert len(p_states)==n_states, 'Inconsitent number of states and state probs'\n",
    "assert np.sum(p_states)==1, 'State probs doesnt sum up to one'\n",
    "assert len(transitions)==n_states, 'Inconsitent number of transition matrixes and state'\n",
    "for i in range(n_states):\n",
    "    assert np.allclose(transitions[i].sum(), len(actions))\n",
    "    assert np.allclose(transitions[i].cumsum(axis=1)[:,-1],1)"
   ]
  },
  {
   "cell_type": "code",
   "execution_count": 4,
   "metadata": {},
   "outputs": [],
   "source": [
    "# Simulation\n",
    "def simulate_markov_chain(transitions, state_id, actions):\n",
    "    '''\n",
    "    Simulate a user session using the corresponding transition matrix\n",
    "    given the current user state\n",
    "    \n",
    "    Parameter:\n",
    "    \n",
    "        transitions : list of transition matrixes\n",
    "        state_id: int of the current user state\n",
    "        actions: list of all available actions\n",
    "        \n",
    "    Returns:\n",
    "    \n",
    "        list of artificial activities in one session\n",
    "    '''\n",
    "    activities = [actions[0]]\n",
    "    while activities[-1] != 'end':\n",
    "        prev_action = actions.index(activities[-1])\n",
    "        transition_probs = transitions[state_id][prev_action]\n",
    "        next_action = np.random.choice(actions, size=1, p=transition_probs)[0]\n",
    "        activities.append(next_action)\n",
    "    return activities\n",
    "\n",
    "\n",
    "np.random.seed(42)\n",
    "log_data = []\n",
    "for user in range(n_users):\n",
    "    for day in range(n_days):\n",
    "        current_state = np.random.choice(np.arange(0, n_states), size=1, p=p_states)[0]\n",
    "        for i in range(n_activities_per_user_per_day):\n",
    "            activities = simulate_markov_chain(transitions, current_state, actions)\n",
    "            log_data.append((user, day, i, activities, current_state))"
   ]
  },
  {
   "cell_type": "code",
   "execution_count": 5,
   "metadata": {},
   "outputs": [],
   "source": [
    "logfile = pd.DataFrame(log_data, columns=('UserID', 'Day', 'UserSessionId', 'SessionActivity', 'State'))"
   ]
  },
  {
   "cell_type": "code",
   "execution_count": 6,
   "metadata": {},
   "outputs": [],
   "source": [
    "%%bash \n",
    "mkdir Data"
   ]
  },
  {
   "cell_type": "code",
   "execution_count": 7,
   "metadata": {},
   "outputs": [],
   "source": [
    "logfile.to_pickle('./Data/logfile_v1.pkl')"
   ]
  },
  {
   "cell_type": "code",
   "execution_count": 13,
   "metadata": {},
   "outputs": [],
   "source": [
    "id2actions = np.array(['<pad>']+actions)\n",
    "np.save('./Data/id2action', id2actions)"
   ]
  },
  {
   "cell_type": "code",
   "execution_count": 14,
   "metadata": {},
   "outputs": [
    {
     "name": "stdout",
     "output_type": "stream",
     "text": [
      "total 4208\n",
      "8604106216    0 drwxr-xr-x  4 matthiasgroncki  staff      128 Nov  8 16:11 .\n",
      "8604100559    0 drwxr-xr-x  8 matthiasgroncki  staff      256 Nov  8 16:11 ..\n",
      "8604106313    8 -rw-r--r--  1 matthiasgroncki  staff      320 Nov  8 16:11 id2action.npy\n",
      "8604106218 4200 -rw-r--r--  1 matthiasgroncki  staff  2147215 Nov  8 16:10 logfile_v1.pkl\n"
     ]
    }
   ],
   "source": [
    "%%bash\n",
    "\n",
    "cd Data\n",
    "ls -lisa"
   ]
  },
  {
   "cell_type": "code",
   "execution_count": null,
   "metadata": {},
   "outputs": [],
   "source": []
  },
  {
   "cell_type": "code",
   "execution_count": null,
   "metadata": {},
   "outputs": [],
   "source": []
  }
 ],
 "metadata": {
  "celltoolbar": "Slideshow",
  "kernelspec": {
   "display_name": "Python [conda env:anaconda]",
   "language": "python",
   "name": "conda-env-anaconda-py"
  },
  "language_info": {
   "codemirror_mode": {
    "name": "ipython",
    "version": 3
   },
   "file_extension": ".py",
   "mimetype": "text/x-python",
   "name": "python",
   "nbconvert_exporter": "python",
   "pygments_lexer": "ipython3",
   "version": "3.6.4"
  }
 },
 "nbformat": 4,
 "nbformat_minor": 2
}
